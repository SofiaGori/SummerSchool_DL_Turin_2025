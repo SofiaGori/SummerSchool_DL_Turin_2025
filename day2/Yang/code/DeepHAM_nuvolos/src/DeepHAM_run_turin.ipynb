{
 "cells": [
  {
   "cell_type": "markdown",
   "id": "f002981f-36e3-4a78-b566-7ec9d3296673",
   "metadata": {
    "id": "f002981f-36e3-4a78-b566-7ec9d3296673"
   },
   "source": [
    "### DeepHAM to solve KS model with GM (code on Nuvolos)"
   ]
  },
  {
   "cell_type": "markdown",
   "id": "VWEsIHDruTO3",
   "metadata": {
    "id": "VWEsIHDruTO3"
   },
   "source": [
    "## Change to the code directory on Nuvolos"
   ]
  },
  {
   "cell_type": "code",
   "execution_count": 5,
   "id": "NTQoc_SZuSqH",
   "metadata": {
    "executionInfo": {
     "elapsed": 1,
     "status": "ok",
     "timestamp": 1756167907296,
     "user": {
      "displayName": "Yucheng Yang",
      "userId": "06663760817085207108"
     },
     "user_tz": -120
    },
    "id": "NTQoc_SZuSqH"
   },
   "outputs": [],
   "source": [
    "import os\n",
    "os.chdir('/files/day2/Yang/code/DeepHAM_nuvolos/src')\n",
    "os.getcwd()"
   ]
  },
  {
   "cell_type": "markdown",
   "id": "9LsHjQ45YLCu",
   "metadata": {
    "id": "9LsHjQ45YLCu"
   },
   "source": [
    "#### code on local machine starts here"
   ]
  },
  {
   "cell_type": "code",
   "execution_count": 6,
   "id": "Vl3xZ0eM3IkG",
   "metadata": {
    "executionInfo": {
     "elapsed": 2,
     "status": "ok",
     "timestamp": 1756167907299,
     "user": {
      "displayName": "Yucheng Yang",
      "userId": "06663760817085207108"
     },
     "user_tz": -120
    },
    "id": "Vl3xZ0eM3IkG"
   },
   "outputs": [],
   "source": [
    "# Define the configurations directly instead of using absl flags\n",
    "config_path = \"./configs/KS/game_nn_n50_0fm1gm.json\"\n",
    "exp_name = \"1gm\"\n",
    "seed_index = 3"
   ]
  },
  {
   "cell_type": "code",
   "execution_count": 6,
   "id": "UenG0DVuuPoQ",
   "metadata": {
    "executionInfo": {
     "elapsed": 1,
     "status": "ok",
     "timestamp": 1756167907302,
     "user": {
      "displayName": "Yucheng Yang",
      "userId": "06663760817085207108"
     },
     "user_tz": -120
    },
    "id": "UenG0DVuuPoQ"
   },
   "outputs": [],
   "source": []
  },
  {
   "cell_type": "code",
   "execution_count": 7,
   "id": "tdF6Fll-30TR",
   "metadata": {
    "executionInfo": {
     "elapsed": 16426,
     "status": "ok",
     "timestamp": 1756167923729,
     "user": {
      "displayName": "Yucheng Yang",
      "userId": "06663760817085207108"
     },
     "user_tz": -120
    },
    "id": "tdF6Fll-30TR"
   },
   "outputs": [],
   "source": [
    "# Imports from the original script\n",
    "import json\n",
    "import time\n",
    "import datetime\n",
    "from param import KSParam\n",
    "from dataset import KSInitDataSet\n",
    "from value import ValueTrainer\n",
    "from policy import KSPolicyTrainer\n",
    "from util import print_elapsedtime\n",
    "from util import set_random_seed"
   ]
  },
  {
   "cell_type": "code",
   "execution_count": 8,
   "id": "zgHaVGJvrg3J",
   "metadata": {
    "colab": {
     "base_uri": "https://localhost:8080/"
    },
    "executionInfo": {
     "elapsed": 519,
     "status": "ok",
     "timestamp": 1756167924244,
     "user": {
      "displayName": "Yucheng Yang",
      "userId": "06663760817085207108"
     },
     "user_tz": -120
    },
    "id": "zgHaVGJvrg3J",
    "outputId": "c3dc3023-85a8-48d5-8e0e-d8267e68a77f"
   },
   "outputs": [
    {
     "name": "stdout",
     "output_type": "stream",
     "text": [
      "Using seed 789 (index 3)\n",
      "Solving the problem based on the config path ./configs/KS/game_nn_n50_0fm1gm.json\n"
     ]
    }
   ],
   "source": [
    "# Load the configuration from the JSON file\n",
    "with open(config_path, 'r') as f:\n",
    "    config = json.load(f)\n",
    "\n",
    "if \"random_seed\" in config:\n",
    "    seed = config[\"random_seed\"][seed_index]\n",
    "    set_random_seed(seed)\n",
    "    print(f\"Using seed {seed} (index {seed_index})\")\n",
    "\n",
    "print(\"Solving the problem based on the config path {}\".format(config_path))"
   ]
  },
  {
   "cell_type": "code",
   "execution_count": 9,
   "id": "6Uqvcw7d32YH",
   "metadata": {
    "executionInfo": {
     "elapsed": 1374,
     "status": "ok",
     "timestamp": 1756167925622,
     "user": {
      "displayName": "Yucheng Yang",
      "userId": "06663760817085207108"
     },
     "user_tz": -120
    },
    "id": "6Uqvcw7d32YH"
   },
   "outputs": [],
   "source": [
    "mparam = KSParam(config[\"n_agt\"], config[\"beta\"], config[\"mats_path\"])\n",
    "# save config at the beginning for checking\n",
    "model_path = \"../data/simul_results/KS/{}_{}_n{}_{}\".format(\n",
    "    \"game\" if config[\"policy_config\"][\"opt_type\"] == \"game\" else \"sp\",\n",
    "    config[\"dataset_config\"][\"value_sampling\"],\n",
    "    config[\"n_agt\"],\n",
    "    exp_name,\n",
    ")\n",
    "config[\"model_path\"] = model_path\n",
    "config[\"current_time\"] = datetime.datetime.now().strftime(\"%Y%m%d-%H%M%S\")\n",
    "os.makedirs(model_path, exist_ok=True)\n",
    "with open(os.path.join(model_path, \"config_beg.json\"), 'w') as f:\n",
    "    json.dump(config, f)"
   ]
  },
  {
   "cell_type": "markdown",
   "id": "LZlS_jbV2rhn",
   "metadata": {
    "id": "LZlS_jbV2rhn"
   },
   "source": [
    "## Block 1 — Dataset & policy initialization (one-time setup)"
   ]
  },
  {
   "cell_type": "code",
   "execution_count": null,
   "id": "b8L236Ba2ht5",
   "metadata": {
    "id": "b8L236Ba2ht5"
   },
   "outputs": [],
   "source": [
    "# --- Setup & dataset ---\n",
    "start_time   = time.monotonic()\n",
    "init_ds      = KSInitDataSet(mparam, config)\n",
    "value_config = config[\"value_config\"]\n",
    "\n",
    "# --- Initial policy choice used to build the first value-training dataset ---\n",
    "if config[\"init_with_bchmk\"]:\n",
    "    init_policy = init_ds.k_policy_bchmk     # PDE / bspline benchmark policy\n",
    "    policy_type = \"pde\"\n",
    "else:\n",
    "    init_policy = init_ds.c_policy_const_share  # constant consumption share NN policy\n",
    "    policy_type = \"nn_share\"\n",
    "\n",
    "# --- Build value-training datasets from the chosen initial policy (supervised targets) ---\n",
    "train_vds, valid_vds = init_ds.get_valuedataset(\n",
    "    init_policy,\n",
    "    policy_type,\n",
    "    update_init=False,\n",
    ")"
   ]
  },
  {
   "cell_type": "markdown",
   "id": "Xfm1boI6267z",
   "metadata": {
    "id": "Xfm1boI6267z"
   },
   "source": [
    "## Block 2 — Initial value-function training (before any policy optimization)\n"
   ]
  },
  {
   "cell_type": "code",
   "execution_count": null,
   "id": "_xnf5tdG25DV",
   "metadata": {
    "id": "_xnf5tdG25DV"
   },
   "outputs": [],
   "source": [
    "vtrainers = []\n",
    "for i in range(value_config[\"num_vnet\"]):\n",
    "    config[\"vnet_idx\"] = str(i)\n",
    "    vtrainers.append(ValueTrainer(config))\n",
    "\n",
    "for vtr in vtrainers:\n",
    "    vtr.train(train_vds, valid_vds, value_config[\"num_epoch\"], value_config[\"batch_size\"])"
   ]
  },
  {
   "cell_type": "markdown",
   "id": "417DaJ_s3BRo",
   "metadata": {
    "id": "417DaJ_s3BRo"
   },
   "source": [
    "> **Notes for readers:**\n",
    ">\n",
    "> * We pre-train the value network(s) once on data generated by an initial policy.\n",
    "> * Each `ValueTrainer.train(...)` runs for `value_config[\"num_epoch\"]` epochs over the prepared datasets.\n",
    "> * These $V$ nets will be used as the terminal bootstrap $\\beta^T V(s_T)$ inside policy optimization."
   ]
  },
  {
   "cell_type": "markdown",
   "id": "FV6j5Tzb3PL7",
   "metadata": {
    "id": "FV6j5Tzb3PL7"
   },
   "source": [
    "\n",
    "## Block 3 — Policy training with periodic value function updating\n",
    "\n",
    "**What happens here.**\n",
    "\n",
    "* We launch `KSPolicyTrainer.train(num_step, batch_size)`.\n",
    "* **Every step**:\n",
    "\n",
    "  * draw a **fresh mini-batch** from `policy_ds` and **simulate new shocks** (`sampler`),\n",
    "  * take **one policy gradient step** (`train_step`).\n",
    "* **Policy-dataset refresh (from simulation)**:\n",
    "\n",
    "  * Inside `sampler`, when `policy_ds.epoch_used > epoch_resample`, we **rebuild the dataset** via `update_policydataset(update_init)`.\n",
    "  * With your config `epoch_resample = 0`, this means: **rebuild after each full pass over the dataset** (cadence ≈ `ceil(dataset_rows / batch_size)` steps).\n",
    "  * If `update_init=True` (set right after value retraining), the next rebuild is a **hard refresh**: we also update dataset stats from the new simulation.\n",
    "* **Every `freq_valid` steps**: run validation on a fixed validation set.\n",
    "* **Every `freq_update_v` steps** (if `value_sampling != \"bchmk\"`):\n",
    "\n",
    "  * **rebuild value datasets** under the **current policy**,\n",
    "  * **retrain** each value net for `value_config[\"num_epoch\"]` epochs,\n",
    "  * set `update_init=True` so the **next policy-dataset rebuild** performs a **hard refresh**.\n"
   ]
  },
  {
   "cell_type": "code",
   "execution_count": 10,
   "id": "QBG7i6r4NCdl",
   "metadata": {
    "colab": {
     "base_uri": "https://localhost:8080/"
    },
    "executionInfo": {
     "elapsed": 5277620,
     "status": "ok",
     "timestamp": 1756173203246,
     "user": {
      "displayName": "Yucheng Yang",
      "userId": "06663760817085207108"
     },
     "user_tz": -120
    },
    "id": "QBG7i6r4NCdl",
    "outputId": "4d4671f9-b162-484d-f8e2-8558469816a5"
   },
   "outputs": [
    {
     "name": "stdout",
     "output_type": "stream",
     "text": [
      "Average of total utility 20.068157.\n",
      "The dataset has 4608 samples in total.\n",
      "Value function learning epoch: 0\n",
      "Value function learning epoch: 20\n",
      "Value function learning epoch: 40\n",
      "Value function learning epoch: 60\n",
      "Value function learning epoch: 80\n",
      "Value function learning epoch: 100\n",
      "Value function learning epoch: 120\n",
      "Value function learning epoch: 140\n",
      "Value function learning epoch: 160\n",
      "Value function learning epoch: 180\n",
      "Value function learning epoch: 200\n",
      "Value function learning epoch: 0\n",
      "Value function learning epoch: 20\n",
      "Value function learning epoch: 40\n",
      "Value function learning epoch: 60\n",
      "Value function learning epoch: 80\n",
      "Value function learning epoch: 100\n",
      "Value function learning epoch: 120\n",
      "Value function learning epoch: 140\n",
      "Value function learning epoch: 160\n",
      "Value function learning epoch: 180\n",
      "Value function learning epoch: 200\n",
      "Value function learning epoch: 0\n",
      "Value function learning epoch: 20\n",
      "Value function learning epoch: 40\n",
      "Value function learning epoch: 60\n",
      "Value function learning epoch: 80\n",
      "Value function learning epoch: 100\n",
      "Value function learning epoch: 120\n",
      "Value function learning epoch: 140\n",
      "Value function learning epoch: 160\n",
      "Value function learning epoch: 180\n",
      "Value function learning epoch: 200\n",
      "{'current': 19142400, 'peak': 29176576}\n"
     ]
    },
    {
     "name": "stderr",
     "output_type": "stream",
     "text": [
      "100%|██████████| 500/500 [07:36<00:00,  1.10it/s]\n"
     ]
    },
    {
     "name": "stdout",
     "output_type": "stream",
     "text": [
      "Step: 500, valid util: 76.0626, k_end: 36.0824\n"
     ]
    },
    {
     "name": "stderr",
     "output_type": "stream",
     "text": [
      "100%|██████████| 500/500 [03:49<00:00,  2.17it/s]\n"
     ]
    },
    {
     "name": "stdout",
     "output_type": "stream",
     "text": [
      "Step: 1000, valid util: 87.6414, k_end: 34.6034\n"
     ]
    },
    {
     "name": "stderr",
     "output_type": "stream",
     "text": [
      "100%|██████████| 500/500 [03:49<00:00,  2.18it/s]\n"
     ]
    },
    {
     "name": "stdout",
     "output_type": "stream",
     "text": [
      "Step: 1500, valid util: 87.746, k_end: 34.0113\n"
     ]
    },
    {
     "name": "stderr",
     "output_type": "stream",
     "text": [
      "100%|██████████| 500/500 [03:48<00:00,  2.19it/s]\n"
     ]
    },
    {
     "name": "stdout",
     "output_type": "stream",
     "text": [
      "Step: 2000, valid util: 87.7874, k_end: 33.8822\n"
     ]
    },
    {
     "name": "stderr",
     "output_type": "stream",
     "text": [
      "\r  0%|          | 0/500 [00:00<?, ?it/s]"
     ]
    },
    {
     "name": "stdout",
     "output_type": "stream",
     "text": [
      "Average of total utility 20.068157.\n",
      "The dataset has 4608 samples in total.\n",
      "Value function learning epoch: 0\n",
      "Value function learning epoch: 20\n",
      "Value function learning epoch: 40\n",
      "Value function learning epoch: 60\n",
      "Value function learning epoch: 80\n",
      "Value function learning epoch: 100\n",
      "Value function learning epoch: 120\n",
      "Value function learning epoch: 140\n",
      "Value function learning epoch: 160\n",
      "Value function learning epoch: 180\n",
      "Value function learning epoch: 200\n",
      "Value function learning epoch: 0\n",
      "Value function learning epoch: 20\n",
      "Value function learning epoch: 40\n",
      "Value function learning epoch: 60\n",
      "Value function learning epoch: 80\n",
      "Value function learning epoch: 100\n",
      "Value function learning epoch: 120\n",
      "Value function learning epoch: 140\n",
      "Value function learning epoch: 160\n",
      "Value function learning epoch: 180\n",
      "Value function learning epoch: 200\n",
      "Value function learning epoch: 0\n",
      "Value function learning epoch: 20\n",
      "Value function learning epoch: 40\n",
      "Value function learning epoch: 60\n",
      "Value function learning epoch: 80\n",
      "Value function learning epoch: 100\n",
      "Value function learning epoch: 120\n",
      "Value function learning epoch: 140\n",
      "Value function learning epoch: 160\n",
      "Value function learning epoch: 180\n"
     ]
    },
    {
     "name": "stderr",
     "output_type": "stream",
     "text": [
      "\r  0%|          | 1/500 [01:19<11:01:06, 79.49s/it]"
     ]
    },
    {
     "name": "stdout",
     "output_type": "stream",
     "text": [
      "Value function learning epoch: 200\n",
      "{'current': 60438016, 'peak': 2091181312}\n"
     ]
    },
    {
     "name": "stderr",
     "output_type": "stream",
     "text": [
      "100%|██████████| 500/500 [05:09<00:00,  1.62it/s]\n"
     ]
    },
    {
     "name": "stdout",
     "output_type": "stream",
     "text": [
      "Step: 2500, valid util: 103.806, k_end: 37.5111\n"
     ]
    },
    {
     "name": "stderr",
     "output_type": "stream",
     "text": [
      "100%|██████████| 500/500 [03:46<00:00,  2.20it/s]\n"
     ]
    },
    {
     "name": "stdout",
     "output_type": "stream",
     "text": [
      "Step: 3000, valid util: 103.801, k_end: 37.0634\n"
     ]
    },
    {
     "name": "stderr",
     "output_type": "stream",
     "text": [
      "100%|██████████| 500/500 [03:50<00:00,  2.17it/s]\n"
     ]
    },
    {
     "name": "stdout",
     "output_type": "stream",
     "text": [
      "Step: 3500, valid util: 103.803, k_end: 37.0857\n"
     ]
    },
    {
     "name": "stderr",
     "output_type": "stream",
     "text": [
      "100%|██████████| 500/500 [03:48<00:00,  2.18it/s]\n"
     ]
    },
    {
     "name": "stdout",
     "output_type": "stream",
     "text": [
      "Step: 4000, valid util: 103.806, k_end: 37.1375\n"
     ]
    },
    {
     "name": "stderr",
     "output_type": "stream",
     "text": [
      "\r  0%|          | 0/500 [00:00<?, ?it/s]"
     ]
    },
    {
     "name": "stdout",
     "output_type": "stream",
     "text": [
      "Average of total utility 20.068157.\n",
      "The dataset has 4608 samples in total.\n",
      "Value function learning epoch: 0\n",
      "Value function learning epoch: 20\n",
      "Value function learning epoch: 40\n",
      "Value function learning epoch: 60\n",
      "Value function learning epoch: 80\n",
      "Value function learning epoch: 100\n",
      "Value function learning epoch: 120\n",
      "Value function learning epoch: 140\n",
      "Value function learning epoch: 160\n",
      "Value function learning epoch: 180\n",
      "Value function learning epoch: 200\n",
      "Value function learning epoch: 0\n",
      "Value function learning epoch: 20\n",
      "Value function learning epoch: 40\n",
      "Value function learning epoch: 60\n",
      "Value function learning epoch: 80\n",
      "Value function learning epoch: 100\n",
      "Value function learning epoch: 120\n",
      "Value function learning epoch: 140\n",
      "Value function learning epoch: 160\n",
      "Value function learning epoch: 180\n",
      "Value function learning epoch: 200\n",
      "Value function learning epoch: 0\n",
      "Value function learning epoch: 20\n",
      "Value function learning epoch: 40\n",
      "Value function learning epoch: 60\n",
      "Value function learning epoch: 80\n",
      "Value function learning epoch: 100\n",
      "Value function learning epoch: 120\n",
      "Value function learning epoch: 140\n",
      "Value function learning epoch: 160\n",
      "Value function learning epoch: 180\n"
     ]
    },
    {
     "name": "stderr",
     "output_type": "stream",
     "text": [
      "\r  0%|          | 1/500 [01:19<11:03:17, 79.76s/it]"
     ]
    },
    {
     "name": "stdout",
     "output_type": "stream",
     "text": [
      "Value function learning epoch: 200\n",
      "{'current': 60130304, 'peak': 2091201280}\n"
     ]
    },
    {
     "name": "stderr",
     "output_type": "stream",
     "text": [
      "100%|██████████| 500/500 [05:08<00:00,  1.62it/s]\n"
     ]
    },
    {
     "name": "stdout",
     "output_type": "stream",
     "text": [
      "Step: 4500, valid util: 103.981, k_end: 39.202\n"
     ]
    },
    {
     "name": "stderr",
     "output_type": "stream",
     "text": [
      "100%|██████████| 500/500 [03:49<00:00,  2.18it/s]\n"
     ]
    },
    {
     "name": "stdout",
     "output_type": "stream",
     "text": [
      "Step: 5000, valid util: 103.983, k_end: 39.3408\n"
     ]
    },
    {
     "name": "stderr",
     "output_type": "stream",
     "text": [
      "100%|██████████| 500/500 [03:46<00:00,  2.21it/s]\n"
     ]
    },
    {
     "name": "stdout",
     "output_type": "stream",
     "text": [
      "Step: 5500, valid util: 103.979, k_end: 39.1172\n"
     ]
    },
    {
     "name": "stderr",
     "output_type": "stream",
     "text": [
      "100%|██████████| 500/500 [03:49<00:00,  2.18it/s]\n"
     ]
    },
    {
     "name": "stdout",
     "output_type": "stream",
     "text": [
      "Step: 6000, valid util: 103.984, k_end: 39.4195\n"
     ]
    },
    {
     "name": "stderr",
     "output_type": "stream",
     "text": [
      "\r  0%|          | 0/500 [00:00<?, ?it/s]"
     ]
    },
    {
     "name": "stdout",
     "output_type": "stream",
     "text": [
      "Average of total utility 20.068157.\n",
      "The dataset has 4608 samples in total.\n",
      "Value function learning epoch: 0\n",
      "Value function learning epoch: 20\n",
      "Value function learning epoch: 40\n",
      "Value function learning epoch: 60\n",
      "Value function learning epoch: 80\n",
      "Value function learning epoch: 100\n",
      "Value function learning epoch: 120\n",
      "Value function learning epoch: 140\n",
      "Value function learning epoch: 160\n",
      "Value function learning epoch: 180\n",
      "Value function learning epoch: 200\n",
      "Value function learning epoch: 0\n",
      "Value function learning epoch: 20\n",
      "Value function learning epoch: 40\n",
      "Value function learning epoch: 60\n",
      "Value function learning epoch: 80\n",
      "Value function learning epoch: 100\n",
      "Value function learning epoch: 120\n",
      "Value function learning epoch: 140\n",
      "Value function learning epoch: 160\n",
      "Value function learning epoch: 180\n",
      "Value function learning epoch: 200\n",
      "Value function learning epoch: 0\n",
      "Value function learning epoch: 20\n",
      "Value function learning epoch: 40\n",
      "Value function learning epoch: 60\n",
      "Value function learning epoch: 80\n",
      "Value function learning epoch: 100\n",
      "Value function learning epoch: 120\n",
      "Value function learning epoch: 140\n",
      "Value function learning epoch: 160\n",
      "Value function learning epoch: 180\n"
     ]
    },
    {
     "name": "stderr",
     "output_type": "stream",
     "text": [
      "\r  0%|          | 1/500 [01:19<11:04:36, 79.91s/it]"
     ]
    },
    {
     "name": "stdout",
     "output_type": "stream",
     "text": [
      "Value function learning epoch: 200\n",
      "{'current': 60888576, 'peak': 2091201280}\n"
     ]
    },
    {
     "name": "stderr",
     "output_type": "stream",
     "text": [
      "100%|██████████| 500/500 [05:09<00:00,  1.62it/s]\n"
     ]
    },
    {
     "name": "stdout",
     "output_type": "stream",
     "text": [
      "Step: 6500, valid util: 104.012, k_end: 38.956\n"
     ]
    },
    {
     "name": "stderr",
     "output_type": "stream",
     "text": [
      "100%|██████████| 500/500 [03:49<00:00,  2.17it/s]\n"
     ]
    },
    {
     "name": "stdout",
     "output_type": "stream",
     "text": [
      "Step: 7000, valid util: 104.01, k_end: 38.8526\n"
     ]
    },
    {
     "name": "stderr",
     "output_type": "stream",
     "text": [
      "100%|██████████| 500/500 [03:49<00:00,  2.18it/s]\n"
     ]
    },
    {
     "name": "stdout",
     "output_type": "stream",
     "text": [
      "Step: 7500, valid util: 104.006, k_end: 38.725\n"
     ]
    },
    {
     "name": "stderr",
     "output_type": "stream",
     "text": [
      "100%|██████████| 500/500 [03:46<00:00,  2.20it/s]\n"
     ]
    },
    {
     "name": "stdout",
     "output_type": "stream",
     "text": [
      "Step: 8000, valid util: 104.012, k_end: 39.067\n"
     ]
    },
    {
     "name": "stderr",
     "output_type": "stream",
     "text": [
      "\r  0%|          | 0/500 [00:00<?, ?it/s]"
     ]
    },
    {
     "name": "stdout",
     "output_type": "stream",
     "text": [
      "Average of total utility 20.068157.\n",
      "The dataset has 4608 samples in total.\n",
      "Value function learning epoch: 0\n",
      "Value function learning epoch: 20\n",
      "Value function learning epoch: 40\n",
      "Value function learning epoch: 60\n",
      "Value function learning epoch: 80\n",
      "Value function learning epoch: 100\n",
      "Value function learning epoch: 120\n",
      "Value function learning epoch: 140\n",
      "Value function learning epoch: 160\n",
      "Value function learning epoch: 180\n",
      "Value function learning epoch: 200\n",
      "Value function learning epoch: 0\n",
      "Value function learning epoch: 20\n",
      "Value function learning epoch: 40\n",
      "Value function learning epoch: 60\n",
      "Value function learning epoch: 80\n",
      "Value function learning epoch: 100\n",
      "Value function learning epoch: 120\n",
      "Value function learning epoch: 140\n",
      "Value function learning epoch: 160\n",
      "Value function learning epoch: 180\n",
      "Value function learning epoch: 200\n",
      "Value function learning epoch: 0\n",
      "Value function learning epoch: 20\n",
      "Value function learning epoch: 40\n",
      "Value function learning epoch: 60\n",
      "Value function learning epoch: 80\n",
      "Value function learning epoch: 100\n",
      "Value function learning epoch: 120\n",
      "Value function learning epoch: 140\n",
      "Value function learning epoch: 160\n",
      "Value function learning epoch: 180\n"
     ]
    },
    {
     "name": "stderr",
     "output_type": "stream",
     "text": [
      "\r  0%|          | 1/500 [01:19<11:02:16, 79.63s/it]"
     ]
    },
    {
     "name": "stdout",
     "output_type": "stream",
     "text": [
      "Value function learning epoch: 200\n",
      "{'current': 60439552, 'peak': 2091201280}\n"
     ]
    },
    {
     "name": "stderr",
     "output_type": "stream",
     "text": [
      "100%|██████████| 500/500 [05:09<00:00,  1.62it/s]\n"
     ]
    },
    {
     "name": "stdout",
     "output_type": "stream",
     "text": [
      "Step: 8500, valid util: 104.026, k_end: 39.4568\n"
     ]
    },
    {
     "name": "stderr",
     "output_type": "stream",
     "text": [
      "100%|██████████| 500/500 [03:49<00:00,  2.18it/s]\n"
     ]
    },
    {
     "name": "stdout",
     "output_type": "stream",
     "text": [
      "Step: 9000, valid util: 104.024, k_end: 39.3557\n"
     ]
    },
    {
     "name": "stderr",
     "output_type": "stream",
     "text": [
      "100%|██████████| 500/500 [03:49<00:00,  2.18it/s]\n"
     ]
    },
    {
     "name": "stdout",
     "output_type": "stream",
     "text": [
      "Step: 9500, valid util: 104.023, k_end: 39.0643\n"
     ]
    },
    {
     "name": "stderr",
     "output_type": "stream",
     "text": [
      "100%|██████████| 500/500 [03:49<00:00,  2.18it/s]"
     ]
    },
    {
     "name": "stdout",
     "output_type": "stream",
     "text": [
      "Step: 10000, valid util: 104.025, k_end: 39.3181\n"
     ]
    },
    {
     "name": "stderr",
     "output_type": "stream",
     "text": [
      "\n"
     ]
    }
   ],
   "source": [
    "# Iterative policy and value training\n",
    "policy_config = config[\"policy_config\"]\n",
    "ptrainer = KSPolicyTrainer(vtrainers, init_ds)\n",
    "ptrainer.train(policy_config[\"num_step\"], policy_config[\"batch_size\"])"
   ]
  },
  {
   "cell_type": "markdown",
   "id": "Z9JmD2634U19",
   "metadata": {
    "id": "Z9JmD2634U19"
   },
   "source": [
    "\n",
    "> **Notes for readers:**\n",
    ">\n",
    "> * **Mini-batch & shocks:** new **every step**.\n",
    "> * **Policy-dataset cadence:** with `t_sample=200` and `t_skip=4`, each path contributes \\~50 time-slices;\n",
    ">   dataset rows ≈ `n_path * 50` (minus NaN rows). Rebuild after each full pass:\n",
    ">   `steps_per_dataset ≈ ceil(dataset_rows / batch_size)`.\n",
    ">   Example: if `n_path=384`, rows ≈ `384*50=19,200` → `19,200/384=50` steps per rebuild.\n",
    "> * **Validation:** every `freq_valid=500` steps (20 times for `num_step=10,000`).\n",
    "> * **Value retrain:** every `freq_update_v=2000` steps (5 times total). This sets `update_init=True`; the **next** dataset rebuild then also updates dataset statistics from the new simulation (hard refresh).\n",
    ">"
   ]
  },
  {
   "cell_type": "code",
   "execution_count": 11,
   "id": "IufSrjPnl775",
   "metadata": {
    "colab": {
     "base_uri": "https://localhost:8080/"
    },
    "executionInfo": {
     "elapsed": 147,
     "status": "ok",
     "timestamp": 1756173203396,
     "user": {
      "displayName": "Yucheng Yang",
      "userId": "06663760817085207108"
     },
     "user_tz": -120
    },
    "id": "IufSrjPnl775",
    "outputId": "0e65290c-db45-492d-e82e-41199020d293"
   },
   "outputs": [
    {
     "name": "stdout",
     "output_type": "stream",
     "text": [
      "Elapsed time: 01:27:57.68\n"
     ]
    }
   ],
   "source": [
    "# Save config and models\n",
    "with open(os.path.join(model_path, \"config.json\"), 'w') as f:\n",
    "    json.dump(config, f)\n",
    "\n",
    "for i, vtr in enumerate(vtrainers):\n",
    "    vtr.save_model(os.path.join(model_path, \"value{}.weights.h5\".format(i)))\n",
    "\n",
    "ptrainer.save_model(os.path.join(model_path, \"policy.weights.h5\"))\n",
    "\n",
    "end_time = time.monotonic()\n",
    "print_elapsedtime(end_time - start_time)"
   ]
  },
  {
   "cell_type": "code",
   "execution_count": 12,
   "id": "6OJ12AF432c2",
   "metadata": {
    "colab": {
     "base_uri": "https://localhost:8080/",
     "height": 35
    },
    "executionInfo": {
     "elapsed": 5,
     "status": "ok",
     "timestamp": 1756173203403,
     "user": {
      "displayName": "Yucheng Yang",
      "userId": "06663760817085207108"
     },
     "user_tz": -120
    },
    "id": "6OJ12AF432c2",
    "outputId": "f14c682d-1670-4e4d-c3b2-52357a6ed996"
   },
   "outputs": [
    {
     "data": {
      "application/vnd.google.colaboratory.intrinsic+json": {
       "type": "string"
      },
      "text/plain": [
       "'../data/simul_results/KS/game_nn_n50_1gm'"
      ]
     },
     "execution_count": 12,
     "metadata": {},
     "output_type": "execute_result"
    }
   ],
   "source": [
    "model_path"
   ]
  }
 ],
 "metadata": {
  "accelerator": "GPU",
  "colab": {
   "gpuType": "A100",
   "machine_shape": "hm",
   "provenance": []
  },
  "kernelspec": {
   "display_name": "Python 3",
   "name": "python3"
  },
  "language_info": {
   "codemirror_mode": {
    "name": "ipython",
    "version": 3
   },
   "file_extension": ".py",
   "mimetype": "text/x-python",
   "name": "python",
   "nbconvert_exporter": "python",
   "pygments_lexer": "ipython3",
   "version": "3.9.11"
  }
 },
 "nbformat": 4,
 "nbformat_minor": 5
}
