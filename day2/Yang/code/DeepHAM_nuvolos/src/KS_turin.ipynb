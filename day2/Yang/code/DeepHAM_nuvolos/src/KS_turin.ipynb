{
  "cells": [
    {
      "cell_type": "markdown",
      "id": "f002981f-36e3-4a78-b566-7ec9d3296673",
      "metadata": {
        "id": "f002981f-36e3-4a78-b566-7ec9d3296673"
      },
      "source": [
        "### DeepHAM to solve KS model (code on Nuvolos)"
      ]
    },
    {
      "cell_type": "code",
      "execution_count": null,
      "id": "Vl3xZ0eM3IkG",
      "metadata": {
        "id": "Vl3xZ0eM3IkG"
      },
      "outputs": [],
      "source": [
        "# Define the configurations directly instead of using absl flags\n",
        "config_path = \"./configs/KS/game_nn_n50.json\"\n",
        "exp_name = \"1fm1\"\n",
        "seed_index = 0"
      ]
    },
    {
      "cell_type": "code",
      "execution_count": null,
      "id": "a62e849c",
      "metadata": {},
      "outputs": [],
      "source": [
        "import os\n",
        "os.chdir('/files/day2/Yang/code/DeepHAM_nuvolos/src')\n",
        "os.getcwd()"
      ]
    },
    {
      "cell_type": "code",
      "execution_count": null,
      "id": "tdF6Fll-30TR",
      "metadata": {
        "id": "tdF6Fll-30TR"
      },
      "outputs": [],
      "source": [
        "# Imports from the original script\n",
        "import json\n",
        "import time\n",
        "import datetime\n",
        "from param import KSParam\n",
        "from dataset import KSInitDataSet\n",
        "from value import ValueTrainer\n",
        "from policy import KSPolicyTrainer\n",
        "from util import print_elapsedtime\n",
        "from util import set_random_seed"
      ]
    },
    {
      "cell_type": "code",
      "execution_count": null,
      "id": "zgHaVGJvrg3J",
      "metadata": {
        "colab": {
          "base_uri": "https://localhost:8080/"
        },
        "id": "zgHaVGJvrg3J",
        "outputId": "85d5fa94-a205-4789-e6ba-98da3af139ed"
      },
      "outputs": [
        {
          "name": "stdout",
          "output_type": "stream",
          "text": [
            "Using seed 996 (index 0)\n",
            "Solving the problem based on the config path ./configs/KS/game_nn_n50.json\n"
          ]
        }
      ],
      "source": [
        "# Load the configuration from the JSON file\n",
        "with open(config_path, 'r') as f:\n",
        "    config = json.load(f)\n",
        "\n",
        "if \"random_seed\" in config:\n",
        "    seed = config[\"random_seed\"][seed_index]\n",
        "    set_random_seed(seed)\n",
        "    print(f\"Using seed {seed} (index {seed_index})\")\n",
        "\n",
        "print(\"Solving the problem based on the config path {}\".format(config_path))"
      ]
    },
    {
      "cell_type": "code",
      "execution_count": null,
      "id": "6Uqvcw7d32YH",
      "metadata": {
        "id": "6Uqvcw7d32YH"
      },
      "outputs": [],
      "source": [
        "mparam = KSParam(config[\"n_agt\"], config[\"beta\"], config[\"mats_path\"])\n",
        "# save config at the beginning for checking\n",
        "model_path = \"../data/simul_results/KS/{}_{}_n{}_{}\".format(\n",
        "    \"game\" if config[\"policy_config\"][\"opt_type\"] == \"game\" else \"sp\",\n",
        "    config[\"dataset_config\"][\"value_sampling\"],\n",
        "    config[\"n_agt\"],\n",
        "    exp_name,\n",
        ")\n",
        "config[\"model_path\"] = model_path\n",
        "config[\"current_time\"] = datetime.datetime.now().strftime(\"%Y%m%d-%H%M%S\")\n",
        "os.makedirs(model_path, exist_ok=True)\n",
        "with open(os.path.join(model_path, \"config_beg.json\"), 'w') as f:\n",
        "    json.dump(config, f)"
      ]
    },
    {
      "cell_type": "code",
      "execution_count": null,
      "id": "QBG7i6r4NCdl",
      "metadata": {
        "colab": {
          "base_uri": "https://localhost:8080/"
        },
        "id": "QBG7i6r4NCdl",
        "outputId": "90b3ff63-009c-4c7f-a001-0531e971880f"
      },
      "outputs": [
        {
          "name": "stdout",
          "output_type": "stream",
          "text": [
            "Average of total utility 20.070721.\n",
            "The dataset has 4608 samples in total.\n",
            "Epoch: 0, validation loss: 0.851127\n",
            "Epoch: 20, validation loss: 0.492391\n",
            "Epoch: 40, validation loss: 0.493855\n",
            "Epoch: 60, validation loss: 0.486579\n",
            "Epoch: 80, validation loss: 0.491024\n",
            "Epoch: 100, validation loss: 0.483124\n",
            "Epoch: 120, validation loss: 0.492418\n",
            "Epoch: 140, validation loss: 0.493509\n",
            "Epoch: 160, validation loss: 0.491173\n",
            "Epoch: 180, validation loss: 0.493959\n",
            "Epoch: 200, validation loss: 0.477271\n",
            "Epoch: 0, validation loss: 0.838573\n",
            "Epoch: 20, validation loss: 0.494163\n",
            "Epoch: 40, validation loss: 0.49039\n",
            "Epoch: 60, validation loss: 0.488238\n",
            "Epoch: 80, validation loss: 0.486452\n",
            "Epoch: 100, validation loss: 0.489583\n",
            "Epoch: 120, validation loss: 0.484199\n",
            "Epoch: 140, validation loss: 0.490537\n",
            "Epoch: 160, validation loss: 0.488818\n",
            "Epoch: 180, validation loss: 0.48991\n",
            "Epoch: 200, validation loss: 0.479048\n",
            "Epoch: 0, validation loss: 1.37506\n",
            "Epoch: 20, validation loss: 0.500991\n",
            "Epoch: 40, validation loss: 0.499171\n",
            "Epoch: 60, validation loss: 0.488318\n",
            "Epoch: 80, validation loss: 0.483179\n",
            "Epoch: 100, validation loss: 0.495587\n",
            "Epoch: 120, validation loss: 0.48409\n",
            "Epoch: 140, validation loss: 0.478573\n",
            "Epoch: 160, validation loss: 0.491477\n",
            "Epoch: 180, validation loss: 0.477559\n",
            "Epoch: 200, validation loss: 0.494841\n",
            "{'current': 16428544, 'peak': 26462720}\n"
          ]
        },
        {
          "name": "stderr",
          "output_type": "stream",
          "text": [
            "100%|██████████| 500/500 [06:15<00:00,  1.33it/s]\n"
          ]
        },
        {
          "name": "stdout",
          "output_type": "stream",
          "text": [
            "Step: 500, valid util: 56.9754, k_end: 17.1912\n"
          ]
        },
        {
          "name": "stderr",
          "output_type": "stream",
          "text": [
            "100%|██████████| 500/500 [03:26<00:00,  2.42it/s]\n"
          ]
        },
        {
          "name": "stdout",
          "output_type": "stream",
          "text": [
            "Step: 1000, valid util: 87.7788, k_end: 36.0737\n"
          ]
        },
        {
          "name": "stderr",
          "output_type": "stream",
          "text": [
            "100%|██████████| 500/500 [03:25<00:00,  2.43it/s]\n"
          ]
        },
        {
          "name": "stdout",
          "output_type": "stream",
          "text": [
            "Step: 1500, valid util: 88.3609, k_end: 34.9668\n"
          ]
        },
        {
          "name": "stderr",
          "output_type": "stream",
          "text": [
            "100%|██████████| 500/500 [03:25<00:00,  2.43it/s]\n"
          ]
        },
        {
          "name": "stdout",
          "output_type": "stream",
          "text": [
            "Step: 2000, valid util: 88.4709, k_end: 34.6618\n"
          ]
        },
        {
          "name": "stderr",
          "output_type": "stream",
          "text": [
            "\r  0%|          | 0/500 [00:00<?, ?it/s]"
          ]
        },
        {
          "name": "stdout",
          "output_type": "stream",
          "text": [
            "Average of total utility 20.070721.\n",
            "The dataset has 4608 samples in total.\n",
            "Epoch: 0, validation loss: 186.807\n",
            "Epoch: 20, validation loss: 95.9493\n",
            "Epoch: 40, validation loss: 57.5016\n",
            "Epoch: 60, validation loss: 35.2899\n",
            "Epoch: 80, validation loss: 19.1556\n",
            "Epoch: 100, validation loss: 7.98536\n",
            "Epoch: 120, validation loss: 1.91826\n",
            "Epoch: 140, validation loss: 0.783189\n",
            "Epoch: 160, validation loss: 0.779965\n",
            "Epoch: 180, validation loss: 0.76577\n",
            "Epoch: 200, validation loss: 0.745737\n",
            "Epoch: 0, validation loss: 187.053\n",
            "Epoch: 20, validation loss: 104.368\n",
            "Epoch: 40, validation loss: 64.2171\n",
            "Epoch: 60, validation loss: 40.1398\n",
            "Epoch: 80, validation loss: 22.622\n",
            "Epoch: 100, validation loss: 10.331\n",
            "Epoch: 120, validation loss: 3.02649\n",
            "Epoch: 140, validation loss: 0.764497\n",
            "Epoch: 160, validation loss: 0.780034\n",
            "Epoch: 180, validation loss: 0.757978\n",
            "Epoch: 200, validation loss: 0.759521\n",
            "Epoch: 0, validation loss: 185.717\n",
            "Epoch: 20, validation loss: 92.1938\n",
            "Epoch: 40, validation loss: 52.029\n",
            "Epoch: 60, validation loss: 30.6033\n",
            "Epoch: 80, validation loss: 15.5934\n",
            "Epoch: 100, validation loss: 5.88446\n",
            "Epoch: 120, validation loss: 1.20051\n",
            "Epoch: 140, validation loss: 0.791912\n",
            "Epoch: 160, validation loss: 0.786106\n",
            "Epoch: 180, validation loss: 0.737383\n"
          ]
        },
        {
          "name": "stderr",
          "output_type": "stream",
          "text": [
            "\r  0%|          | 1/500 [00:57<8:02:09, 57.98s/it]"
          ]
        },
        {
          "name": "stdout",
          "output_type": "stream",
          "text": [
            "Epoch: 200, validation loss: 0.539093\n",
            "{'current': 61181696, 'peak': 1513204480}\n"
          ]
        },
        {
          "name": "stderr",
          "output_type": "stream",
          "text": [
            "100%|██████████| 500/500 [04:28<00:00,  1.86it/s]\n"
          ]
        },
        {
          "name": "stdout",
          "output_type": "stream",
          "text": [
            "Step: 2500, valid util: 104.214, k_end: 32.5469\n"
          ]
        },
        {
          "name": "stderr",
          "output_type": "stream",
          "text": [
            "100%|██████████| 500/500 [03:27<00:00,  2.41it/s]\n"
          ]
        },
        {
          "name": "stdout",
          "output_type": "stream",
          "text": [
            "Step: 3000, valid util: 104.231, k_end: 32.4812\n"
          ]
        },
        {
          "name": "stderr",
          "output_type": "stream",
          "text": [
            "100%|██████████| 500/500 [03:30<00:00,  2.38it/s]\n"
          ]
        },
        {
          "name": "stdout",
          "output_type": "stream",
          "text": [
            "Step: 3500, valid util: 104.318, k_end: 32.6791\n"
          ]
        },
        {
          "name": "stderr",
          "output_type": "stream",
          "text": [
            "100%|██████████| 500/500 [03:30<00:00,  2.38it/s]\n"
          ]
        },
        {
          "name": "stdout",
          "output_type": "stream",
          "text": [
            "Step: 4000, valid util: 104.334, k_end: 32.4697\n"
          ]
        },
        {
          "name": "stderr",
          "output_type": "stream",
          "text": [
            "\r  0%|          | 0/500 [00:00<?, ?it/s]"
          ]
        },
        {
          "name": "stdout",
          "output_type": "stream",
          "text": [
            "Average of total utility 20.070721.\n",
            "The dataset has 4608 samples in total.\n",
            "Epoch: 0, validation loss: 0.573441\n",
            "Epoch: 20, validation loss: 0.448515\n",
            "Epoch: 40, validation loss: 0.333241\n",
            "Epoch: 60, validation loss: 0.321577\n",
            "Epoch: 80, validation loss: 0.321664\n",
            "Epoch: 100, validation loss: 0.322814\n",
            "Epoch: 120, validation loss: 0.316713\n",
            "Epoch: 140, validation loss: 0.315873\n",
            "Epoch: 160, validation loss: 0.325676\n",
            "Epoch: 180, validation loss: 0.321788\n",
            "Epoch: 200, validation loss: 0.323633\n",
            "Epoch: 0, validation loss: 0.59317\n",
            "Epoch: 20, validation loss: 0.527919\n",
            "Epoch: 40, validation loss: 0.377336\n",
            "Epoch: 60, validation loss: 0.322659\n",
            "Epoch: 80, validation loss: 0.320294\n",
            "Epoch: 100, validation loss: 0.321874\n",
            "Epoch: 120, validation loss: 0.318747\n",
            "Epoch: 140, validation loss: 0.318832\n",
            "Epoch: 160, validation loss: 0.314218\n",
            "Epoch: 180, validation loss: 0.318597\n",
            "Epoch: 200, validation loss: 0.316636\n",
            "Epoch: 0, validation loss: 0.481291\n",
            "Epoch: 20, validation loss: 0.348955\n",
            "Epoch: 40, validation loss: 0.328127\n",
            "Epoch: 60, validation loss: 0.3116\n",
            "Epoch: 80, validation loss: 0.319067\n",
            "Epoch: 100, validation loss: 0.313955\n",
            "Epoch: 120, validation loss: 0.322777\n",
            "Epoch: 140, validation loss: 0.322248\n",
            "Epoch: 160, validation loss: 0.308618\n",
            "Epoch: 180, validation loss: 0.313394\n"
          ]
        },
        {
          "name": "stderr",
          "output_type": "stream",
          "text": [
            "\r  0%|          | 1/500 [00:58<8:03:21, 58.12s/it]"
          ]
        },
        {
          "name": "stdout",
          "output_type": "stream",
          "text": [
            "Epoch: 200, validation loss: 0.310321\n",
            "{'current': 56378880, 'peak': 1530509568}\n"
          ]
        },
        {
          "name": "stderr",
          "output_type": "stream",
          "text": [
            "100%|██████████| 500/500 [04:26<00:00,  1.87it/s]\n"
          ]
        },
        {
          "name": "stdout",
          "output_type": "stream",
          "text": [
            "Step: 4500, valid util: 104.082, k_end: 40.3925\n"
          ]
        },
        {
          "name": "stderr",
          "output_type": "stream",
          "text": [
            "100%|██████████| 500/500 [03:28<00:00,  2.39it/s]\n"
          ]
        },
        {
          "name": "stdout",
          "output_type": "stream",
          "text": [
            "Step: 5000, valid util: 104.101, k_end: 39.8909\n"
          ]
        },
        {
          "name": "stderr",
          "output_type": "stream",
          "text": [
            "100%|██████████| 500/500 [03:25<00:00,  2.43it/s]\n"
          ]
        },
        {
          "name": "stdout",
          "output_type": "stream",
          "text": [
            "Step: 5500, valid util: 104.104, k_end: 39.896\n"
          ]
        },
        {
          "name": "stderr",
          "output_type": "stream",
          "text": [
            "100%|██████████| 500/500 [03:29<00:00,  2.39it/s]\n"
          ]
        },
        {
          "name": "stdout",
          "output_type": "stream",
          "text": [
            "Step: 6000, valid util: 104.096, k_end: 40.1626\n"
          ]
        },
        {
          "name": "stderr",
          "output_type": "stream",
          "text": [
            "\r  0%|          | 0/500 [00:00<?, ?it/s]"
          ]
        },
        {
          "name": "stdout",
          "output_type": "stream",
          "text": [
            "Average of total utility 20.070721.\n",
            "The dataset has 4608 samples in total.\n",
            "Epoch: 0, validation loss: 0.365925\n",
            "Epoch: 20, validation loss: 0.236676\n",
            "Epoch: 40, validation loss: 0.228967\n",
            "Epoch: 60, validation loss: 0.229102\n",
            "Epoch: 80, validation loss: 0.23387\n",
            "Epoch: 100, validation loss: 0.229223\n",
            "Epoch: 120, validation loss: 0.234386\n",
            "Epoch: 140, validation loss: 0.227782\n",
            "Epoch: 160, validation loss: 0.225267\n",
            "Epoch: 180, validation loss: 0.227703\n",
            "Epoch: 200, validation loss: 0.229515\n",
            "Epoch: 0, validation loss: 0.346858\n",
            "Epoch: 20, validation loss: 0.229901\n",
            "Epoch: 40, validation loss: 0.233521\n",
            "Epoch: 60, validation loss: 0.230503\n",
            "Epoch: 80, validation loss: 0.229877\n",
            "Epoch: 100, validation loss: 0.231319\n",
            "Epoch: 120, validation loss: 0.232255\n",
            "Epoch: 140, validation loss: 0.226353\n",
            "Epoch: 160, validation loss: 0.228707\n",
            "Epoch: 180, validation loss: 0.225967\n",
            "Epoch: 200, validation loss: 0.23268\n",
            "Epoch: 0, validation loss: 0.36822\n",
            "Epoch: 20, validation loss: 0.23493\n",
            "Epoch: 40, validation loss: 0.237178\n",
            "Epoch: 60, validation loss: 0.229714\n",
            "Epoch: 80, validation loss: 0.23249\n",
            "Epoch: 100, validation loss: 0.231745\n",
            "Epoch: 120, validation loss: 0.230016\n",
            "Epoch: 140, validation loss: 0.227847\n",
            "Epoch: 160, validation loss: 0.234373\n",
            "Epoch: 180, validation loss: 0.22504\n"
          ]
        },
        {
          "name": "stderr",
          "output_type": "stream",
          "text": [
            "\r  0%|          | 1/500 [00:58<8:04:15, 58.23s/it]"
          ]
        },
        {
          "name": "stdout",
          "output_type": "stream",
          "text": [
            "Epoch: 200, validation loss: 0.223517\n",
            "{'current': 59098112, 'peak': 1530509568}\n"
          ]
        },
        {
          "name": "stderr",
          "output_type": "stream",
          "text": [
            "100%|██████████| 500/500 [04:28<00:00,  1.87it/s]\n"
          ]
        },
        {
          "name": "stdout",
          "output_type": "stream",
          "text": [
            "Step: 6500, valid util: 104.632, k_end: 38.8698\n"
          ]
        },
        {
          "name": "stderr",
          "output_type": "stream",
          "text": [
            "\r  0%|          | 0/500 [00:00<?, ?it/s]"
          ]
        }
      ],
      "source": [
        "start_time = time.monotonic()\n",
        "\n",
        "# Initial value training\n",
        "init_ds = KSInitDataSet(mparam, config)\n",
        "value_config = config[\"value_config\"]\n",
        "\n",
        "if config[\"init_with_bchmk\"]:\n",
        "    init_policy = init_ds.k_policy_bchmk\n",
        "    policy_type = \"pde\"\n",
        "else:\n",
        "    init_policy = init_ds.c_policy_const_share\n",
        "    policy_type = \"nn_share\"\n",
        "\n",
        "train_vds, valid_vds = init_ds.get_valuedataset(init_policy, policy_type, update_init=False)\n",
        "vtrainers = []\n",
        "for i in range(value_config[\"num_vnet\"]):\n",
        "    config[\"vnet_idx\"] = str(i)\n",
        "    vtrainers.append(ValueTrainer(config))\n",
        "\n",
        "for vtr in vtrainers:\n",
        "    vtr.train(train_vds, valid_vds, value_config[\"num_epoch\"], value_config[\"batch_size\"])\n",
        "\n",
        "# Iterative policy and value training\n",
        "policy_config = config[\"policy_config\"]\n",
        "ptrainer = KSPolicyTrainer(vtrainers, init_ds)\n",
        "ptrainer.train(policy_config[\"num_step\"], policy_config[\"batch_size\"])"
      ]
    },
    {
      "cell_type": "code",
      "execution_count": null,
      "id": "IufSrjPnl775",
      "metadata": {
        "id": "IufSrjPnl775"
      },
      "outputs": [],
      "source": [
        "# Save config and models\n",
        "with open(os.path.join(model_path, \"config.json\"), 'w') as f:\n",
        "    json.dump(config, f)\n",
        "\n",
        "for i, vtr in enumerate(vtrainers):\n",
        "    vtr.save_model(os.path.join(model_path, \"value{}.weights.h5\".format(i)))\n",
        "\n",
        "ptrainer.save_model(os.path.join(model_path, \"policy.weights.h5\"))\n",
        "\n",
        "# for i, vtr in enumerate(vtrainers):\n",
        "#     vtr.save_model(os.path.join(model_path, \"value{}.h5\".format(i)))\n",
        "\n",
        "# ptrainer.save_model(os.path.join(model_path, \"policy.h5\"))\n",
        "\n",
        "end_time = time.monotonic()\n",
        "print_elapsedtime(end_time - start_time)"
      ]
    },
    {
      "cell_type": "code",
      "execution_count": null,
      "id": "6OJ12AF432c2",
      "metadata": {
        "id": "6OJ12AF432c2"
      },
      "outputs": [],
      "source": [
        "model_path"
      ]
    },
    {
      "cell_type": "code",
      "execution_count": null,
      "id": "fhyFI91mvdjn",
      "metadata": {
        "id": "fhyFI91mvdjn"
      },
      "outputs": [],
      "source": [
        "# elapsed_time = end_time - start_time\n",
        "\n",
        "# # Calculate and format elapsed time\n",
        "# hours, rem = divmod(elapsed_time, 3600)\n",
        "# minutes, seconds = divmod(rem, 60)\n",
        "# formatted_time = f\"{int(hours):02}:{int(minutes):02}:{seconds:05.2f}\"\n",
        "\n",
        "# # Print and save elapsed time to file\n",
        "# elapsed_message = f\"Solving the problem based on the config path {config_path} takes {formatted_time}\"\n",
        "# print(elapsed_message)\n",
        "\n",
        "# with open(os.path.join(model_path, \"time.txt\"), 'w') as time_file:\n",
        "#     time_file.write(elapsed_message)"
      ]
    }
  ],
  "metadata": {
    "accelerator": "GPU",
    "colab": {
      "gpuType": "A100",
      "machine_shape": "hm",
      "provenance": []
    },
    "kernelspec": {
      "display_name": "Python 3",
      "name": "python3"
    },
    "language_info": {
      "codemirror_mode": {
        "name": "ipython",
        "version": 3
      },
      "file_extension": ".py",
      "mimetype": "text/x-python",
      "name": "python",
      "nbconvert_exporter": "python",
      "pygments_lexer": "ipython3",
      "version": "3.9.11"
    }
  },
  "nbformat": 4,
  "nbformat_minor": 5
}
